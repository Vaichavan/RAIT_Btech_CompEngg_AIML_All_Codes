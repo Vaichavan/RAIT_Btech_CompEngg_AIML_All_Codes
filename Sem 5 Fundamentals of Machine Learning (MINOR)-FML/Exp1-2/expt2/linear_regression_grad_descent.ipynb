{
 "cells": [
  {
   "cell_type": "markdown",
   "id": "8a327a6e-c735-4857-86a7-a1edda97a4ee",
   "metadata": {},
   "source": [
    "## Import lib ##"
   ]
  },
  {
   "cell_type": "code",
   "execution_count": 3,
   "id": "5f463dc5-11a9-4d37-a4f7-0f27027eb613",
   "metadata": {},
   "outputs": [
    {
     "name": "stdout",
     "output_type": "stream",
     "text": [
      "Requirement already satisfied: numpy in c:\\users\\vaibh\\anaconda3\\lib\\site-packages (1.23.5)\n",
      "Requirement already satisfied: scipy in c:\\users\\vaibh\\anaconda3\\lib\\site-packages (1.10.0)\n",
      "Requirement already satisfied: scikit-learn in c:\\users\\vaibh\\anaconda3\\lib\\site-packages (1.2.1)\n",
      "Requirement already satisfied: pandas in c:\\users\\vaibh\\anaconda3\\lib\\site-packages (1.5.3)\n",
      "Requirement already satisfied: matplotlib in c:\\users\\vaibh\\anaconda3\\lib\\site-packages (3.7.0)\n",
      "Requirement already satisfied: joblib>=1.1.1 in c:\\users\\vaibh\\anaconda3\\lib\\site-packages (from scikit-learn) (1.1.1)\n",
      "Requirement already satisfied: threadpoolctl>=2.0.0 in c:\\users\\vaibh\\anaconda3\\lib\\site-packages (from scikit-learn) (2.2.0)\n",
      "Requirement already satisfied: python-dateutil>=2.8.1 in c:\\users\\vaibh\\anaconda3\\lib\\site-packages (from pandas) (2.8.2)\n",
      "Requirement already satisfied: pytz>=2020.1 in c:\\users\\vaibh\\anaconda3\\lib\\site-packages (from pandas) (2022.7)\n",
      "Requirement already satisfied: pyparsing>=2.3.1 in c:\\users\\vaibh\\anaconda3\\lib\\site-packages (from matplotlib) (3.0.9)\n",
      "Requirement already satisfied: cycler>=0.10 in c:\\users\\vaibh\\anaconda3\\lib\\site-packages (from matplotlib) (0.11.0)\n",
      "Requirement already satisfied: packaging>=20.0 in c:\\users\\vaibh\\anaconda3\\lib\\site-packages (from matplotlib) (22.0)\n",
      "Requirement already satisfied: contourpy>=1.0.1 in c:\\users\\vaibh\\anaconda3\\lib\\site-packages (from matplotlib) (1.0.5)\n",
      "Requirement already satisfied: fonttools>=4.22.0 in c:\\users\\vaibh\\anaconda3\\lib\\site-packages (from matplotlib) (4.25.0)\n",
      "Requirement already satisfied: kiwisolver>=1.0.1 in c:\\users\\vaibh\\anaconda3\\lib\\site-packages (from matplotlib) (1.4.4)\n",
      "Requirement already satisfied: pillow>=6.2.0 in c:\\users\\vaibh\\anaconda3\\lib\\site-packages (from matplotlib) (9.4.0)\n",
      "Requirement already satisfied: six>=1.5 in c:\\users\\vaibh\\anaconda3\\lib\\site-packages (from python-dateutil>=2.8.1->pandas) (1.16.0)\n",
      "Note: you may need to restart the kernel to use updated packages.\n"
     ]
    }
   ],
   "source": [
    "pip install numpy scipy scikit-learn pandas matplotlib"
   ]
  },
  {
   "cell_type": "code",
   "execution_count": 4,
   "id": "05a1a21e-6729-4b9b-bc15-ae6d548daba9",
   "metadata": {},
   "outputs": [],
   "source": [
    "import numpy as np\n",
    "import matplotlib.pyplot as plt"
   ]
  },
  {
   "cell_type": "markdown",
   "id": "f5cdaa98-952c-4230-9c5d-cb9db13fa310",
   "metadata": {},
   "source": [
    "## Load data ##"
   ]
  },
  {
   "cell_type": "code",
   "execution_count": 5,
   "id": "2c27a938-b83d-454c-9f95-c17c7742713e",
   "metadata": {},
   "outputs": [],
   "source": [
    "x=[[60,67,71,75,78],\n",
    "  [22,24,15,20,16]]\n",
    "y = [140,159,192,200,212]"
   ]
  },
  {
   "cell_type": "code",
   "execution_count": 6,
   "id": "a0ccf221-e2e7-4f7e-9889-ce476760d661",
   "metadata": {},
   "outputs": [],
   "source": [
    "## Add bias\n",
    "x.insert(0, [1 for ii in x[0]]);"
   ]
  },
  {
   "cell_type": "code",
   "execution_count": 7,
   "id": "7081cdd3-4a2b-4f8a-be5a-0bbef0f4209e",
   "metadata": {},
   "outputs": [
    {
     "data": {
      "text/plain": [
       "[[1, 1, 1, 1, 1], [60, 67, 71, 75, 78], [22, 24, 15, 20, 16]]"
      ]
     },
     "execution_count": 7,
     "metadata": {},
     "output_type": "execute_result"
    }
   ],
   "source": [
    "x"
   ]
  },
  {
   "cell_type": "code",
   "execution_count": 8,
   "id": "a766af46-7503-4ac0-9aee-28b414098455",
   "metadata": {},
   "outputs": [],
   "source": [
    "mse = lambda w,x,y: np.mean((x.T@w - y)**2, 0)/2;"
   ]
  },
  {
   "cell_type": "markdown",
   "id": "f8030f45-ab65-43bc-a04c-494de750113d",
   "metadata": {},
   "source": [
    "## Constants ##"
   ]
  },
  {
   "cell_type": "code",
   "execution_count": 9,
   "id": "7d7f80f3-d52b-4101-a007-0df53121eb0a",
   "metadata": {},
   "outputs": [],
   "source": [
    "EPOCHS = 2;   #Max iterations\n",
    "alpha = 0.0002; #Learning rate\n",
    "w= [0,1,1]; #initial weights"
   ]
  },
  {
   "cell_type": "code",
   "execution_count": 10,
   "id": "6487f894-1abd-4908-ae2f-4e42e782fbff",
   "metadata": {},
   "outputs": [
    {
     "name": "stdout",
     "output_type": "stream",
     "text": [
      "---------- Iter-0 ----------\n",
      "W_0:  0.0000\n",
      "W_1:  1.0000\n",
      "W_2:  1.0000\n",
      "MSE: 4417.3000\n",
      "---------- Iter-1 ----------\n",
      "W_0:  0.0182\n",
      "W_1:  2.3056\n",
      "W_2:  1.3394\n",
      "MSE: 172.0173\n",
      "---------- Iter-2 ----------\n",
      "W_0:  0.0167\n",
      "W_1:  2.2223\n",
      "W_2:  1.3004\n",
      "MSE: 151.5906\n"
     ]
    }
   ],
   "source": [
    "w = np.array(w)\n",
    "x = np.array(x)\n",
    "y = np.array(y)\n",
    "\n",
    "for ii in range(EPOCHS+1):\n",
    "    print('-'*10, f'Iter-{ii}', '-'*10);\n",
    "    print(f'W_0: {w[0]: 5.4f}');\n",
    "    print(f'W_1: {w[1]: 5.4f}');\n",
    "    print(f'W_2: {w[2]: 5.4f}');\n",
    "    e= mse(w,x,y);\n",
    "    print(f'MSE:{e: 9.4f}');\n",
    "    w= w-alpha * np.mean((x.T@w - y)*x, 1)\n",
    "    "
   ]
  },
  {
   "cell_type": "code",
   "execution_count": 11,
   "id": "d90255e7-7526-4d4a-803f-a1ccdc8b0111",
   "metadata": {},
   "outputs": [],
   "source": [
    "EPOCHS = 4;     #Max. iterations\n",
    "alpha = 0.0005; #Learning rate\n",
    "w = [0, 1, 1];  #Initial weights"
   ]
  },
  {
   "cell_type": "code",
   "execution_count": 12,
   "id": "12a785d6",
   "metadata": {},
   "outputs": [
    {
     "name": "stdout",
     "output_type": "stream",
     "text": [
      "---------- Iter-0 ----------\n",
      "W_0:  0.0000\n",
      "W_1:  1.0000\n",
      "W_2:  1.0000\n",
      "MSE: 4417.3000\n",
      "---------- Iter-1 ----------\n",
      "W_0:  0.0455\n",
      "W_1:  4.2641\n",
      "W_2:  1.8486\n",
      "MSE: 12013.9064\n",
      "---------- Iter-2 ----------\n",
      "W_0: -0.0318\n",
      "W_1: -1.1531\n",
      "W_2:  0.3317\n",
      "MSE: 33157.7072\n",
      "---------- Iter-3 ----------\n",
      "W_0:  0.0957\n",
      "W_1:  7.9107\n",
      "W_2:  2.7618\n",
      "MSE: 91997.6012\n",
      "---------- Iter-4 ----------\n",
      "W_0: -0.1185\n",
      "W_1: -7.1817\n",
      "W_2: -1.3911\n",
      "MSE: 255729.9348\n"
     ]
    }
   ],
   "source": [
    "w = np.array(w)\n",
    "x = np.array(x)\n",
    "y = np.array(y)\n",
    "\n",
    "for ii in range(EPOCHS+1):\n",
    "    print('-'*10, f'Iter-{ii}','-'*10);\n",
    "    print(f'W_0: {w[0]: 5.4f}');\n",
    "    print(f'W_1: {w[1]: 5.4f}');\n",
    "    print(f'W_2: {w[2]: 5.4f}');\n",
    "    e = mse(w, x, y);\n",
    "    print(f'MSE:{e: 9.4f}');\n",
    "    w = w-alpha * np.mean((x.T@w - y)*x, 1)\n"
   ]
  },
  {
   "cell_type": "code",
   "execution_count": null,
   "id": "130cfa3f",
   "metadata": {},
   "outputs": [],
   "source": []
  }
 ],
 "metadata": {
  "kernelspec": {
   "display_name": "Python 3 (ipykernel)",
   "language": "python",
   "name": "python3"
  },
  "language_info": {
   "codemirror_mode": {
    "name": "ipython",
    "version": 3
   },
   "file_extension": ".py",
   "mimetype": "text/x-python",
   "name": "python",
   "nbconvert_exporter": "python",
   "pygments_lexer": "ipython3",
   "version": "3.10.9"
  }
 },
 "nbformat": 4,
 "nbformat_minor": 5
}
