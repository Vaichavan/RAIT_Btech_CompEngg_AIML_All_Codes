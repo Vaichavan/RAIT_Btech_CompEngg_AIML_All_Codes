{
 "cells": [
  {
   "cell_type": "code",
   "execution_count": 5,
   "metadata": {},
   "outputs": [],
   "source": [
    "%matplotlib inline"
   ]
  },
  {
   "cell_type": "markdown",
   "metadata": {},
   "source": [
    "\n",
    "# Logistic Regression Example\n"
   ]
  },
  {
   "cell_type": "code",
   "execution_count": 6,
   "metadata": {},
   "outputs": [],
   "source": [
    "# Import necessary libraries\n",
    "import pandas as pd\n",
    "from sklearn.model_selection import train_test_split\n",
    "from sklearn.preprocessing import StandardScaler\n",
    "from sklearn.linear_model import LogisticRegression\n",
    "from sklearn.metrics import accuracy_score, classification_report, confusion_matrix\n",
    "\n"
   ]
  },
  {
   "cell_type": "code",
   "execution_count": 7,
   "metadata": {},
   "outputs": [],
   "source": [
    "import pandas as pd\n",
    "filename = 'Solar_radiation_classification.csv' # Path to external dataset in CSV format\n",
    "data = pd.read_csv(filename, header=0)"
   ]
  },
  {
   "cell_type": "code",
   "execution_count": 8,
   "metadata": {},
   "outputs": [
    {
     "name": "stdout",
     "output_type": "stream",
     "text": [
      "   Air Temperature (C°)  Air Temperature Uncertainty (C°)  \\\n",
      "0              1.598833                         -0.039841   \n",
      "1              1.415552                         -0.039841   \n",
      "2              1.034891                         -0.039841   \n",
      "3              0.174880                         -0.039841   \n",
      "4             -0.572343                         -0.039841   \n",
      "\n",
      "   Wind Direction at 3m (°N)  Wind Direction at 3m Uncertainty (°N)  \\\n",
      "0                  -1.358521                               0.163933   \n",
      "1                  -1.333544                               0.163933   \n",
      "2                  -1.241959                               0.163933   \n",
      "3                  -1.075441                               0.163933   \n",
      "4                  -0.883946                               0.163933   \n",
      "\n",
      "   Wind Speed at 3m (m/s)  Wind Speed at 3m Uncertainty (m/s)  \\\n",
      "0               -0.351941                            0.677977   \n",
      "1               -0.460051                           -1.548603   \n",
      "2               -0.784380                           -1.548603   \n",
      "3               -1.000600                           -1.548603   \n",
      "4               -0.892490                           -1.548603   \n",
      "\n",
      "   Wind Speed at 3m (std dev) (m/s)  DHI (Wh/m2)  DHI Uncertainty (Wh/m2)  \\\n",
      "0                         -0.309934     2.087472                 2.420683   \n",
      "1                         -0.731123     0.780151                 1.294103   \n",
      "2                         -1.152311     0.093343                 0.300212   \n",
      "3                         -1.152311    -0.634539                -0.039165   \n",
      "4                         -0.731123    -0.993174                -0.147613   \n",
      "\n",
      "   Standard Deviation DHI (Wh/m2)  ...  GHI Uncertainty (Wh/m2)  \\\n",
      "0                   -6.322829e-16  ...                 0.645691   \n",
      "1                   -6.322829e-16  ...                 0.693011   \n",
      "2                   -6.322829e-16  ...                 0.194101   \n",
      "3                   -6.322829e-16  ...                -0.002891   \n",
      "4                   -6.322829e-16  ...                -0.071556   \n",
      "\n",
      "   Standard Deviation GHI (Wh/m2)  Peak Wind Speed at 3m (m/s)  \\\n",
      "0                             0.0                     0.358986   \n",
      "1                             0.0                    -0.401816   \n",
      "2                             0.0                    -1.264058   \n",
      "3                             0.0                    -1.137258   \n",
      "4                             0.0                    -0.934377   \n",
      "\n",
      "   Peak Wind Speed at 3m Uncertainty (m/s)  Relative Humidity (%)  \\\n",
      "0                                 0.116591              -1.346289   \n",
      "1                                 0.116591              -1.239218   \n",
      "2                                 0.116591              -1.152541   \n",
      "3                                 0.116591              -0.974088   \n",
      "4                                 0.116591               0.326067   \n",
      "\n",
      "   Relative Humidity Uncertainty (%)  Barometric Pressure (mB (hPa equiv))  \\\n",
      "0                           -0.04948                             -0.350323   \n",
      "1                           -0.04948                             -0.305136   \n",
      "2                           -0.04948                             -0.206155   \n",
      "3                           -0.04948                             -0.092112   \n",
      "4                           -0.04948                             -0.046925   \n",
      "\n",
      "   Barometric Pressure Uncertainty (mB (hPa equiv))  GHI (Wh/m2)       Class  \n",
      "0                                         -0.364441     0.516210     Running  \n",
      "1                                         -0.364441     0.527461     Running  \n",
      "2                                         -0.364441     0.391562  Monitoring  \n",
      "3                                          0.054434     0.101813  Monitoring  \n",
      "4                                          0.054434    -0.319541  Monitoring  \n",
      "\n",
      "[5 rows x 23 columns]\n"
     ]
    }
   ],
   "source": [
    "# Inspect the data\n",
    "print(data.head())"
   ]
  },
  {
   "cell_type": "code",
   "execution_count": 9,
   "metadata": {},
   "outputs": [
    {
     "data": {
      "text/plain": [
       "Class\n",
       "Monitoring    576\n",
       "Running       430\n",
       "Inspecting    256\n",
       "Name: count, dtype: int64"
      ]
     },
     "execution_count": 9,
     "metadata": {},
     "output_type": "execute_result"
    }
   ],
   "source": [
    "data['Class'].value_counts()"
   ]
  },
  {
   "cell_type": "code",
   "execution_count": 10,
   "metadata": {},
   "outputs": [],
   "source": [
    "# # Define feature columns and the target column\n",
    "# X = data.drop('Class', axis=1)  # Features (all columns except 'Class')\n",
    "# y = data['Class'].map({'Running': 1, 'Monitoring': 0})  # Convert 'Running' to 1 and 'Monitoring' to 0"
   ]
  },
  {
   "cell_type": "code",
   "execution_count": 11,
   "metadata": {},
   "outputs": [],
   "source": [
    "# Define feature columns and the target column\n",
    "X = data.drop('Class', axis=1)  # Features (all columns except 'Class')\n",
    "y = data['Class']  # Assuming 'Class' column has 3 unique classes\n"
   ]
  },
  {
   "cell_type": "code",
   "execution_count": 12,
   "metadata": {},
   "outputs": [],
   "source": [
    "# Split the dataset into training and testing sets (80% train, 20% test)\n",
    "X_train, X_test, y_train, y_test = train_test_split(X, y, test_size=0.2, random_state=42)"
   ]
  },
  {
   "cell_type": "code",
   "execution_count": 13,
   "metadata": {},
   "outputs": [],
   "source": [
    "# Standardize the features\n",
    "scaler = StandardScaler()\n",
    "X_train_scaled = scaler.fit_transform(X_train)\n",
    "X_test_scaled = scaler.transform(X_test)"
   ]
  },
  {
   "cell_type": "code",
   "execution_count": 14,
   "metadata": {},
   "outputs": [],
   "source": [
    "# Initialize the logistic regression model for multiclass classification\n",
    "#log_reg = LogisticRegression()  for 2 class classification\n",
    "log_reg = LogisticRegression(multi_class='multinomial',solver='lbfgs',max_iter=1000)"
   ]
  },
  {
   "cell_type": "code",
   "execution_count": 15,
   "metadata": {},
   "outputs": [],
   "source": [
    "# Fit the model to the training data\n",
    "log_reg.fit(X_train_scaled, y_train)\n",
    "\n",
    "# Make predictions on the test data\n",
    "y_pred = log_reg.predict(X_test_scaled)"
   ]
  },
  {
   "cell_type": "code",
   "execution_count": 16,
   "metadata": {},
   "outputs": [
    {
     "name": "stdout",
     "output_type": "stream",
     "text": [
      "Accuracy: 0.9763\n",
      "Recall: 0.9793\n",
      "Precision: 0.9734\n",
      "F1-Score: 0.9761\n"
     ]
    }
   ],
   "source": [
    "# Evaluate the model\n",
    "from sklearn.metrics import accuracy_score,recall_score,precision_score,f1_score,precision_recall_curve\n",
    "accuracy = accuracy_score(y_test, y_pred)\n",
    "print(f'Accuracy: {accuracy:.4f}')\n",
    "recall=recall_score(y_test, y_pred,average='macro')  \n",
    "# macro: Unweighted average of the metrics for each class.All classes are treated equally.\n",
    "print(f'Recall: {recall:.4f}')\n",
    "precision=precision_score(y_test, y_pred,average='macro')\n",
    "print(f'Precision: {precision:.4f}')\n",
    "f1=f1_score(y_test, y_pred,average='macro')\n",
    "print(f'F1-Score: {f1:.4f}')\n",
    "\n"
   ]
  },
  {
   "cell_type": "code",
   "execution_count": 17,
   "metadata": {},
   "outputs": [
    {
     "name": "stdout",
     "output_type": "stream",
     "text": [
      "Accuracy: 0.9763\n",
      "Recall: 0.9763\n",
      "Precision: 0.9767\n",
      "F1-Score: 0.9762\n"
     ]
    }
   ],
   "source": [
    "accuracy = accuracy_score(y_test, y_pred)\n",
    "print(f'Accuracy: {accuracy:.4f}')\n",
    "recall=recall_score(y_test, y_pred,average='weighted')\n",
    "print(f'Recall: {recall:.4f}')\n",
    "#weighted: Takes class imbalance into account by weighting each class's contribution by \n",
    "#its support (number of true instances).\n",
    "precision=precision_score(y_test, y_pred,average='weighted')\n",
    "print(f'Precision: {precision:.4f}')\n",
    "f1=f1_score(y_test, y_pred,average='weighted')\n",
    "print(f'F1-Score: {f1:.4f}')"
   ]
  },
  {
   "cell_type": "code",
   "execution_count": 18,
   "metadata": {},
   "outputs": [
    {
     "name": "stdout",
     "output_type": "stream",
     "text": [
      "Confusion Matrix:\n",
      "[[ 53   1   0]\n",
      " [  2 110   3]\n",
      " [  0   0  84]]\n"
     ]
    }
   ],
   "source": [
    "print('Confusion Matrix:')\n",
    "print(confusion_matrix(y_test, y_pred))"
   ]
  },
  {
   "cell_type": "code",
   "execution_count": 19,
   "metadata": {},
   "outputs": [
    {
     "name": "stdout",
     "output_type": "stream",
     "text": [
      "Classification Report:\n",
      "              precision    recall  f1-score   support\n",
      "\n",
      "  Inspecting       0.96      0.98      0.97        54\n",
      "  Monitoring       0.99      0.96      0.97       115\n",
      "     Running       0.97      1.00      0.98        84\n",
      "\n",
      "    accuracy                           0.98       253\n",
      "   macro avg       0.97      0.98      0.98       253\n",
      "weighted avg       0.98      0.98      0.98       253\n",
      "\n"
     ]
    }
   ],
   "source": [
    "print('Classification Report:')\n",
    "print(classification_report(y_test, y_pred))"
   ]
  },
  {
   "cell_type": "code",
   "execution_count": 20,
   "metadata": {},
   "outputs": [],
   "source": [
    "# # Import necessary libraries\n",
    "# import numpy as np\n",
    "# import matplotlib.pyplot as plt\n",
    "# from sklearn.metrics import precision_recall_curve, average_precision_score\n",
    "# from sklearn.preprocessing import label_binarize\n",
    "# from sklearn.metrics import PrecisionRecallDisplay\n",
    "\n",
    "# # Assuming y_test are the true labels and y_pred are the predicted probabilities\n",
    "# # Let's also assume there are 3 classes in the classification task (adjust if needed)\n",
    "\n",
    "# n_classes = 3  # Number of classes\n",
    "# # Binarize the output (one-vs-rest strategy)\n",
    "# y_test_bin = label_binarize(y_test, classes=[0, 1, 2])\n",
    "# y_pred_prob = log_reg.predict_proba(X_test_scaled)\n",
    "\n",
    "# # Initialize variables to store precision, recall, and average precision for each class\n",
    "# precision = dict()\n",
    "# recall = dict()\n",
    "# average_precision = dict()\n",
    "\n",
    "# # Calculate precision-recall curve and average precision for each class\n",
    "# for i in range(n_classes):\n",
    "#     precision[i], recall[i], _ = precision_recall_curve(y_test_bin[:, i], y_pred_prob[:, i])\n",
    "#     average_precision[i] = average_precision_score(y_test_bin[:, i], y_pred_prob[:, i])\n",
    "\n",
    "# # Plot the Precision-Recall curve for each class\n",
    "# plt.figure(figsize=(8, 6))\n",
    "# for i in range(n_classes):\n",
    "#     plt.plot(recall[i], precision[i], lw=2, label=f'Class {i} (AP = {average_precision[i]:0.2f})')\n",
    "\n",
    "# plt.xlabel('Recall')\n",
    "# plt.ylabel('Precision')\n",
    "# plt.title('Precision-Recall Curve for Multiclass Classification')\n",
    "# plt.legend(loc='best')\n",
    "# plt.grid()\n",
    "# plt.show()\n"
   ]
  },
  {
   "cell_type": "code",
   "execution_count": null,
   "metadata": {},
   "outputs": [],
   "source": []
  }
 ],
 "metadata": {
  "kernelspec": {
   "display_name": "Python 3 (ipykernel)",
   "language": "python",
   "name": "python3"
  },
  "language_info": {
   "codemirror_mode": {
    "name": "ipython",
    "version": 3
   },
   "file_extension": ".py",
   "mimetype": "text/x-python",
   "name": "python",
   "nbconvert_exporter": "python",
   "pygments_lexer": "ipython3",
   "version": "3.10.9"
  }
 },
 "nbformat": 4,
 "nbformat_minor": 1
}
