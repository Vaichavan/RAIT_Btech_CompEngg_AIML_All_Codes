{
 "cells": [
  {
   "cell_type": "code",
   "execution_count": null,
   "id": "e3fd6873",
   "metadata": {},
   "outputs": [],
   "source": [
    "import pandas as pd\n",
    "import numpy as np\n",
    "import random\n",
    "\n",
    "# Set reproducibility\n",
    "random.seed(42)\n",
    "np.random.seed(42)\n",
    "\n",
    "# Possible values\n",
    "species_list = ['Adelie', 'Chinstrap', 'Gentoo', 'adelie', 'ADELIE']\n",
    "islands = ['Torgersen', 'Biscoe', 'Dream', 'torgerSen']\n",
    "sex_list = ['male', 'female', 'MALE', 'FEMALE', 'na', '']\n",
    "\n",
    "# Generate 200 rows of dirty data\n",
    "rows = []\n",
    "for _ in range(200):\n",
    "    species = random.choice(species_list)\n",
    "    island = random.choice(islands)\n",
    "    \n",
    "    # Introduce some missing and wrong entries\n",
    "    bill_length = random.choice([round(np.random.normal(45, 5), 1), '', 'n/a', np.nan])\n",
    "    bill_depth = random.choice([round(np.random.normal(17, 2), 1), np.nan])\n",
    "    flipper_length = random.choice([np.random.randint(170, 230), '', np.nan])\n",
    "    body_mass = random.choice([np.random.randint(3000, 6000), 99999, 'unknown', np.nan])\n",
    "    sex = random.choice(sex_list)\n",
    "    \n",
    "    rows.append([species, island, bill_length, bill_depth, flipper_length, body_mass, sex])\n",
    "\n",
    "# Add some duplicate rows\n",
    "rows += rows[:10]\n",
    "\n",
    "# Create DataFrame\n",
    "df_dirty = pd.DataFrame(rows, columns=[\n",
    "    'species', 'island', 'bill_length_mm', 'bill_depth_mm',\n",
    "    'flipper_length_mm', 'body_mass_g', 'sex'\n",
    "])\n",
    "\n",
    "# Save to CSV\n",
    "df_dirty.to_csv('unclean_penguins.csv', index=False)\n",
    "print(\"✅ unclean_penguins.csv with 210 rows created.\")\n",
    "\n"
   ]
  }
 ],
 "metadata": {
  "kernelspec": {
   "display_name": "Python 3 (ipykernel)",
   "language": "python",
   "name": "python3"
  },
  "language_info": {
   "codemirror_mode": {
    "name": "ipython",
    "version": 3
   },
   "file_extension": ".py",
   "mimetype": "text/x-python",
   "name": "python",
   "nbconvert_exporter": "python",
   "pygments_lexer": "ipython3",
   "version": "3.10.9"
  }
 },
 "nbformat": 4,
 "nbformat_minor": 5
}
