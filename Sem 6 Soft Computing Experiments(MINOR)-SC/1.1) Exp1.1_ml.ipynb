{
 "cells": [
  {
   "cell_type": "code",
   "execution_count": 11,
   "id": "ba1e058d-57a1-49ac-8baf-e00cf5822190",
   "metadata": {},
   "outputs": [],
   "source": [
    "import numpy as np"
   ]
  },
  {
   "cell_type": "code",
   "execution_count": 16,
   "id": "aa126ac1-5199-42a3-9d49-8e01b52c5d8f",
   "metadata": {},
   "outputs": [
    {
     "name": "stdout",
     "output_type": "stream",
     "text": [
      "[0, 0, 1, 0]\n"
     ]
    }
   ],
   "source": [
    "X = np.array([[0, 0, 1, 1],\n",
    "             [0, 1, 0, 1]])\n",
    "W = np.array([1, -1])\n",
    "theta = 1\n",
    "Z = W@X                                        \n",
    "h1 = [int(i>=theta) for i in Z]\n",
    "print(h1)"
   ]
  },
  {
   "cell_type": "code",
   "execution_count": 17,
   "id": "05e83b90-0956-4e82-959f-f6a97de3641b",
   "metadata": {},
   "outputs": [
    {
     "name": "stdout",
     "output_type": "stream",
     "text": [
      "[0, 1, 0, 0]\n"
     ]
    }
   ],
   "source": [
    "X = np.array([[0, 0, 1, 1],\n",
    "             [0, 1, 0, 1]])\n",
    "W = np.array([-1, 1])\n",
    "theta = 1\n",
    "Z = W@X                                       \n",
    "h2 = [int(i>=theta) for i in Z]\n",
    "print(h2)"
   ]
  },
  {
   "cell_type": "code",
   "execution_count": 18,
   "id": "28c56f8a-679e-4b6a-bfe0-5e685bfc7c93",
   "metadata": {},
   "outputs": [
    {
     "name": "stdout",
     "output_type": "stream",
     "text": [
      "[0, 1, 1, 0]\n"
     ]
    }
   ],
   "source": [
    "X = np.array([h1, h2])\n",
    "\n",
    "W = np.array([1, 1])\n",
    "theta = 1\n",
    "Z = W@X\n",
    "XOR = [int(i>= theta) for i in Z]\n",
    "\n",
    "print(XOR)"
   ]
  },
  {
   "cell_type": "code",
   "execution_count": null,
   "id": "2c236ba9-acf2-42e9-950e-47e6ded3e535",
   "metadata": {},
   "outputs": [],
   "source": []
  }
 ],
 "metadata": {
  "kernelspec": {
   "display_name": "Python 3 (ipykernel)",
   "language": "python",
   "name": "python3"
  },
  "language_info": {
   "codemirror_mode": {
    "name": "ipython",
    "version": 3
   },
   "file_extension": ".py",
   "mimetype": "text/x-python",
   "name": "python",
   "nbconvert_exporter": "python",
   "pygments_lexer": "ipython3",
   "version": "3.10.9"
  }
 },
 "nbformat": 4,
 "nbformat_minor": 5
}
