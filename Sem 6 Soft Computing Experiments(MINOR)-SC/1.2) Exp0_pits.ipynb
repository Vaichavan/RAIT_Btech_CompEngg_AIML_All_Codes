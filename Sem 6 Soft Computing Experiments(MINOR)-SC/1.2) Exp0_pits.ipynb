{
 "cells": [
  {
   "cell_type": "code",
   "execution_count": 1,
   "id": "6ecc43f9",
   "metadata": {},
   "outputs": [
    {
     "name": "stdout",
     "output_type": "stream",
     "text": [
      "OR Gate: [0, 1, 1, 1]\n",
      "AND Gate: [0, 0, 0, 1]\n",
      "NOT Gate: [1, 0]\n",
      "XOR Gate: [0, 1, 1, 0]\n"
     ]
    }
   ],
   "source": [
    "import numpy as np\n",
    "\n",
    "def mcp_neuron(X, W, theta):\n",
    "    Z = W @ X\n",
    "    return [int(i >= theta) for i in Z]\n",
    "\n",
    "# ------------------------\n",
    "# OR Gate\n",
    "# ------------------------\n",
    "X_or = np.array([[0, 0, 1, 1],\n",
    "                 [0, 1, 0, 1]])\n",
    "W_or = np.array([1, 1])\n",
    "theta_or = 1\n",
    "or_output = mcp_neuron(X_or, W_or, theta_or)\n",
    "print(\"OR Gate:\", or_output)\n",
    "\n",
    "# ------------------------\n",
    "# AND Gate\n",
    "# ------------------------\n",
    "X_and = np.array([[0, 0, 1, 1],\n",
    "                  [0, 1, 0, 1]])\n",
    "W_and = np.array([1, 1])\n",
    "theta_and = 2\n",
    "and_output = mcp_neuron(X_and, W_and, theta_and)\n",
    "print(\"AND Gate:\", and_output)\n",
    "\n",
    "# ------------------------\n",
    "# NOT Gate\n",
    "# ------------------------\n",
    "# Only one input: [0, 1]\n",
    "X_not = np.array([[0, 1]])\n",
    "W_not = np.array([-1])   # Invert the signal\n",
    "theta_not = -0.5         # Bias so that 0 → 1 and 1 → 0\n",
    "not_output = mcp_neuron(X_not, W_not, theta_not)\n",
    "print(\"NOT Gate:\", not_output)\n",
    "\n",
    "# ------------------------\n",
    "# XOR Gate using 2-layer MCP (requires hidden layer)\n",
    "# XOR = (A OR B) AND NOT (A AND B)\n",
    "A = np.array([0, 0, 1, 1])\n",
    "B = np.array([0, 1, 0, 1])\n",
    "X = np.array([A, B])\n",
    "\n",
    "# Layer 1\n",
    "or_layer = mcp_neuron(X, np.array([1, 1]), 1)      # OR\n",
    "and_layer = mcp_neuron(X, np.array([1, 1]), 2)     # AND\n",
    "\n",
    "# Convert to NumPy arrays for Layer 2\n",
    "h1 = np.array(or_layer)\n",
    "h2 = np.array(and_layer)\n",
    "hidden_X = np.array([h1, h2])\n",
    "xor_output = mcp_neuron(hidden_X, np.array([1, -1]), 1)  # OR - AND\n",
    "print(\"XOR Gate:\", xor_output)\n"
   ]
  },
  {
   "cell_type": "code",
   "execution_count": null,
   "id": "00e25ef7",
   "metadata": {},
   "outputs": [],
   "source": []
  }
 ],
 "metadata": {
  "kernelspec": {
   "display_name": "Python 3 (ipykernel)",
   "language": "python",
   "name": "python3"
  },
  "language_info": {
   "codemirror_mode": {
    "name": "ipython",
    "version": 3
   },
   "file_extension": ".py",
   "mimetype": "text/x-python",
   "name": "python",
   "nbconvert_exporter": "python",
   "pygments_lexer": "ipython3",
   "version": "3.10.9"
  }
 },
 "nbformat": 4,
 "nbformat_minor": 5
}
