{
 "cells": [
  {
   "cell_type": "markdown",
   "id": "73fcd1a5",
   "metadata": {},
   "source": [
    "# Exp1- Pitts"
   ]
  },
  {
   "cell_type": "code",
   "execution_count": 2,
   "id": "16dc2214",
   "metadata": {},
   "outputs": [],
   "source": [
    "# import numpy as np"
   ]
  },
  {
   "cell_type": "code",
   "execution_count": 3,
   "id": "543de809",
   "metadata": {},
   "outputs": [],
   "source": [
    "# #binary NOT GATE\n",
    "# W=np.array([-1])\n",
    "# X=np.array([0,1])\n",
    "# theta=-0.5\n",
    "# Z=W * X\n",
    "# y_pred=[int(i>=theta) for i in Z]\n",
    "# print(\"NOT GATE = \",y_pred)\n"
   ]
  },
  {
   "cell_type": "code",
   "execution_count": 4,
   "id": "f316bdd1",
   "metadata": {},
   "outputs": [],
   "source": [
    "# #binary OR GATE\n",
    "# W=np.array([1,1])\n",
    "# X=np.array([[0,0,1,1],[0,1,0,1]])\n",
    "# theta=1\n",
    "# Z=W@X\n",
    "# y_pred=[int(i>=theta) for i in Z]\n",
    "# print(\"OR GATE = \",y_pred)\n"
   ]
  },
  {
   "cell_type": "code",
   "execution_count": 5,
   "id": "3a16efb6",
   "metadata": {},
   "outputs": [],
   "source": [
    "# #binary AND GATE\n",
    "# W=np.array([1,1])\n",
    "# X=np.array([[0,0,1,1],[0,1,0,1]])\n",
    "# theta=2\n",
    "# Z=W@X\n",
    "# y_pred=[int(i>=theta) for i in Z]\n",
    "# print(\"AND GATE = \",y_pred)\n"
   ]
  },
  {
   "cell_type": "code",
   "execution_count": 6,
   "id": "f91c2ad5",
   "metadata": {},
   "outputs": [],
   "source": [
    "# #binary XOR GATE\n",
    "# W1=np.array([1,1])\n",
    "# X1=np.array([[0,0,1,1],[0,1,0,1]])\n",
    "# theta1=1\n",
    "# Z1=W1@X1\n",
    "# y_pred1=[int(i>=theta1) for i in Z1]\n",
    "# print(y_pred1)\n",
    "\n",
    "# W2=np.array([1,1])\n",
    "# X2=np.array([[0,0,1,1],[0,1,0,1]])\n",
    "# theta2=2\n",
    "# Z2=W2@X2\n",
    "# y_pred2=[int(i>=theta2) for i in Z2]\n",
    "# print(y_pred2)\n",
    "\n",
    "# W=np.array([1,-1])\n",
    "# X=np.array([y_pred1,y_pred2])\n",
    "# theta=1\n",
    "# Z=W@X\n",
    "# y_pred=[int(i>=theta) for i in Z]\n",
    "# print(y_pred)\n"
   ]
  },
  {
   "cell_type": "code",
   "execution_count": 7,
   "id": "64764b75",
   "metadata": {},
   "outputs": [],
   "source": [
    "# #bipolar OR GATE\n",
    "# W=np.array([1,1])\n",
    "# X=np.array([[-1,-1,1,1],[-1,1,-1,1]])\n",
    "# theta=0\n",
    "# Z=W@X\n",
    "# y_pred=[int(i>=theta)*2-1 for i in Z]\n",
    "# print(y_pred)\n"
   ]
  },
  {
   "cell_type": "code",
   "execution_count": 8,
   "id": "4e14f408",
   "metadata": {},
   "outputs": [],
   "source": [
    "# #bipolar AND GATE\n",
    "# W=np.array([1,1])\n",
    "# X=np.array([[-1,-1,1,1],[-1,1,-1,1]])\n",
    "# theta=1\n",
    "# Z=W@X\n",
    "# y_pred=[int(i>=theta)*2-1 for i in Z]\n",
    "# print(y_pred)\n",
    "\n"
   ]
  },
  {
   "cell_type": "markdown",
   "id": "72bf07bf",
   "metadata": {},
   "source": [
    "# Exp2 - Perceptron"
   ]
  },
  {
   "cell_type": "code",
   "execution_count": 9,
   "id": "0d08e3c6",
   "metadata": {},
   "outputs": [],
   "source": [
    "# import numpy as np\n",
    "# W=np.array([0,0,0])\n",
    "# print(f\"{W=}\")\n",
    "# X=np.array([[0,0,1,1],[0,1,0,1]])\n",
    "# print(f\"{X=}\")\n",
    "# A=np.vstack((np.ones((1,4)),X))\n",
    "# print(f\"{A=}\")\n",
    "# t=np.array([0,1,1,1])\n",
    "# print(f\"{t=}\")\n",
    "# Max_Epoch=10"
   ]
  },
  {
   "cell_type": "code",
   "execution_count": 10,
   "id": "933a36c1",
   "metadata": {},
   "outputs": [],
   "source": [
    "# for e in range(Max_Epoch):\n",
    "#     print(\"Epoch- \",e+1,\"=\"*50)\n",
    "#     isConv=True\n",
    "#     for x,y in zip(A.T,t.ravel()):\n",
    "#         Z=W @ x.T\n",
    "#         print(x,y,W, Z)\n",
    "#         if y>0 and Z<0:\n",
    "#             W=W+x\n",
    "#             isConv=False\n",
    "#             print(\"Perform Update:W+x\")\n",
    "#         if y<1 and Z>=0:\n",
    "#             W=W-x\n",
    "#             isConv=False\n",
    "#             print(\"Perform Update:W-x\")\n",
    "#     if isConv:\n",
    "#         print(\"Final Weights= \", W)\n",
    "#         break            "
   ]
  },
  {
   "cell_type": "code",
   "execution_count": 11,
   "id": "439f9bca",
   "metadata": {},
   "outputs": [],
   "source": [
    "# Z=W@A\n",
    "# y_pred=[int(pred>=0) for pred in Z.ravel()]\n",
    "# print(y_pred)"
   ]
  },
  {
   "cell_type": "markdown",
   "id": "074336ad",
   "metadata": {},
   "source": [
    "# Exp3- MLP forward pass 1"
   ]
  },
  {
   "cell_type": "code",
   "execution_count": 12,
   "id": "c215ba7b",
   "metadata": {},
   "outputs": [],
   "source": [
    "# import numpy as np\n",
    "# np.set_printoptions(precision=4)\n",
    "# W=np.array([[-1,-1,1],\n",
    "#            [-1,2,1]],dtype=float)\n",
    "# X=np.array([[0,-1,1],\n",
    "#             [-1,0,-1]],dtype=float)\n",
    "\n",
    "# #padding\n",
    "# if X.shape[0]!=W.shape[1]:\n",
    "#     A_0=np.vstack((np.ones((1,X.shape[1])),X))\n",
    "# else:\n",
    "#     A_0=X\n",
    "    \n",
    "# f=\"USigmoid\"\n",
    "# # f=\"BSigmoid\"\n",
    "# # f=\"ReLU\"\n",
    "# # f=\"Lin\"\n",
    "\n",
    "# def USigmoid(x):\n",
    "#     return 1/(1+np.exp(-x))\n",
    "# def BSigmoid(x):\n",
    "#     return (1-np.exp(-x))/(1+np.exp(-x))\n",
    "# def ReLU(x):\n",
    "#     return np.array([max(i,0) for i in x])\n",
    "# def Lin(x):\n",
    "#     return x\n",
    "# def activation(Z,f):\n",
    "#     A=np.array(list(map(globals()[f],Z)))\n",
    "#     return A\n",
    "\n",
    "# Z=W@A_0\n",
    "# print(f\"{Z=}\")\n",
    "\n",
    "# A_1=activation(Z,f)\n",
    "# print(f\"{A_1=}\")\n",
    "\n",
    "\n"
   ]
  },
  {
   "cell_type": "markdown",
   "id": "fe7f2837",
   "metadata": {},
   "source": [
    "# Exp3- MLP forward pass 2"
   ]
  },
  {
   "cell_type": "code",
   "execution_count": 13,
   "id": "f13c7a72",
   "metadata": {},
   "outputs": [],
   "source": [
    "# import numpy as np\n",
    "# np.set_printoptions(precision=4)\n",
    "\n",
    "# W_0=np.array([[1,-1],\n",
    "#               [1,-1]])\n",
    "# W_1=np.array([[-1,1,0],\n",
    "#               [0,-1,1],\n",
    "#              [1,0,-1]])\n",
    "# X=np.array([[1,1,0],\n",
    "#            [0,1,1]])\n",
    "# f_1=\"Lin\"\n",
    "# f_2=\"ReLU\"\n",
    "\n",
    "# def Lin(x):\n",
    "#     return x\n",
    "# def ReLU(x):\n",
    "#     return np.array([max(i,0) for i in x])\n",
    "# def Usigmoid(x):\n",
    "#     return 1/(1+np.exp(-x))\n",
    "# def Bsigmoid(x):\n",
    "#     return (1-np.exp(-x))/(1+np.exp(-x))\n",
    "# def activation(Z,f=\"Lin\"):\n",
    "#     A=np.array(list(map(globals()[f],Z)))\n",
    "#     return A\n",
    "    \n",
    "    \n",
    "# if X.shape[0] != W_0.shape[1]:\n",
    "#     A_0 = np.vstack((np.ones((1, X.shape[1])), X))\n",
    "#     print(\"Pad Bias\")\n",
    "# else:\n",
    "#     A_0 = X\n",
    "#     print(\"NO BIAS\")\n",
    "# print(f\"{A_0=}\")\n",
    "\n",
    "# print(\"\\n Input -> Hidden\")\n",
    "# Z_1=W_0@A_0\n",
    "# print(f\"{Z_1=}\")\n",
    "# A_1=activation(Z_1,f_1)\n",
    "# print(f\"{A_1=}\")\n",
    "\n",
    "# if A_1.shape[0]!=W_1.shape[1]:\n",
    "#     A_1 = np.vstack((np.ones((1, A_1.shape[1])), A_1))\n",
    "#     print(\"Pad Bias\")\n",
    "# else:\n",
    "#     print(\"NO BIAS\")\n",
    "# print(f\"{A_1=}\")\n",
    "\n",
    "# print(\"\\n Hidden -> Output\")\n",
    "# Z_2=W_1@A_1\n",
    "# print(f\"{Z_2=}\")\n",
    "\n",
    "# A_2=activation(Z_2,f_2)\n",
    "# print(f\"{A_2=}\")"
   ]
  },
  {
   "cell_type": "markdown",
   "id": "4e0d7bb0",
   "metadata": {},
   "source": [
    "# MLP Backward Pass- 1"
   ]
  },
  {
   "cell_type": "code",
   "execution_count": 14,
   "id": "946ef0f6",
   "metadata": {
    "scrolled": false
   },
   "outputs": [],
   "source": [
    "# import numpy as np\n",
    "# np.set_printoptions(precision=4)\n",
    "\n",
    "# W=np.array([1,1,1],dtype=float)\n",
    "# X=np.array([[1,1,1],\n",
    "#           [3,3,3]],dtype=float)\n",
    "# t=np.array([1,1,1],dtype=float)\n",
    "\n",
    "# f=\"USigmoid\"\n",
    "# lr=1\n",
    "\n",
    "\n",
    "\n",
    "# def Lin(x,d):\n",
    "#     if d==\"F\":\n",
    "#         return x\n",
    "#     else: \n",
    "#         return 1\n",
    "# def Relu(x,d):\n",
    "#     if d==\"F\" :\n",
    "#         return max(x,0)\n",
    "#     else: return float (x>0)\n",
    "# def USigmoid(x,d):\n",
    "#     if d==\"F\" :\n",
    "#         return 1/(1+np.exp(-x))\n",
    "#     else:\n",
    "#         return USigmoid(x,\"F\")*(1-USigmoid(x,\"F\"))\n",
    "\n",
    "# def BSigmoid(x,d):\n",
    "#     if d==\"F\" :\n",
    "#         return (1-np.exp(-x))/(1+np.exp(-x))\n",
    "#     else:\n",
    "#         return 0.5*(1-BSigmoid(x,\"F\")**2)\n",
    "# def activation(Z,f,d=\"F\"):\n",
    "#     Z = np.atleast_1d(Z)\n",
    "#     A = np.array([globals()[f](z, d) for z in Z])\n",
    "#     return A\n",
    "\n",
    "\n",
    "# A_0=np.vstack((np.ones((1,X.shape[1])),X))\n",
    "# MaxEp=1\n",
    "\n",
    "# for e in range(MaxEp):\n",
    "#     print(\"Epoch=\",e+1,\"=\"*80)\n",
    "#     for iter, (x,y) in enumerate(zip(A_0.T, t.T)):\n",
    "#         print(\"Iteration=\",iter+1,\"=\"*80)\n",
    "#         #Forward Pass\n",
    "#         Z_1=W@x\n",
    "#         print(f'{Z_1 = }')\n",
    "\n",
    "#         A_1=activation(Z_1,f)\n",
    "#         print(f\"{A_1=}\")\n",
    "        \n",
    "#         #Backward Pass\n",
    "#         Error=0.5*(A_1-t)**2\n",
    "#         print(f\"{Error=}\")\n",
    "#         dE_dW= (A_1-y)*activation(Z_1,f,\"B\")*x\n",
    "#         print(f\"{dE_dW=}\")\n",
    "#         W=W-lr*dE_dW\n",
    "#         print(f\"{W=}\")\n"
   ]
  },
  {
   "cell_type": "markdown",
   "id": "6a38fe4b",
   "metadata": {},
   "source": [
    "# MLP Backward Pass- 2"
   ]
  },
  {
   "cell_type": "code",
   "execution_count": 28,
   "id": "89698fe7",
   "metadata": {},
   "outputs": [],
   "source": [
    "# import numpy as np\n",
    "# np.set_printoptions(precision=4)\n",
    "\n",
    "# W_0 = np.array([[1, 0, 1],\n",
    "#                 [-1, -1, 1]], dtype=float)  # Hidden layer weights\n",
    "# W_1 = np.array([[0, 1, -1]], dtype=float)   # Output layer weights\n",
    "\n",
    "# # Input and target\n",
    "# X = np.array([[1, -1, 1],\n",
    "#               [0, -1, 1]], dtype=float)     # Shape: (2, 2)\n",
    "# t = np.array([[0, 0, 1]], dtype=float)   # Shape: (1, 2)\n",
    "\n",
    "# # Hyperparameters\n",
    "# f_1 = \"Lin\"\n",
    "# f_2 = \"ReLU\"\n",
    "# lr = 1\n",
    "# MAX_EPOCHS = 1\n",
    "\n",
    "# def USigmoid(x,d):\n",
    "#     fx=1/(1+np.exp(-x))\n",
    "#     return fx if d==\"F\" else fx(1-fx)\n",
    "    \n",
    "# def BSigmoid(x,d):\n",
    "#     fx=(1+np.exp(-x))/(1+np.exp(-x))\n",
    "#     return fx if d==\"F\" else 0.5*(1-fx**2)\n",
    "\n",
    "# def Tanh(x,d):\n",
    "#     fx=np.tanh(x)\n",
    "#     return fx if d==\"F\" else 1-fx**2\n",
    "\n",
    "# def ReLU(x,d):\n",
    "#     return np.maximum(0,x) if d==\"F\" else (x>0).astype(float)\n",
    "# def Lin(x,d):\n",
    "#     return x if d==\"F\" else np.ones_like(x)\n",
    "# def activation(Z,f=\"Lin\", d=\"F\"):\n",
    "#     return np.array([globals()[f](z,d) for z in Z]).reshape(-1,1)"
   ]
  },
  {
   "cell_type": "code",
   "execution_count": 29,
   "id": "24b82930",
   "metadata": {},
   "outputs": [
    {
     "name": "stdout",
     "output_type": "stream",
     "text": [
      "Epoch=  1 ======================================================================\n",
      "Iter=  1 ======================================================================\n",
      "Bias added\n",
      "Bias added\n",
      "A_0 (input):\n",
      "[[1.]\n",
      " [1.]\n",
      " [0.]]\n",
      "Z_1 (hidden pre-activation):\n",
      "[[ 1.]\n",
      " [-2.]]\n",
      "A_1 (hidden post-activation):\n",
      "[[ 1.]\n",
      " [ 1.]\n",
      " [-2.]]\n",
      "Z_2 (output pre-activation):\n",
      "[[3.]]\n",
      "A_2 (output post-activation):\n",
      "[[3.]]\n",
      "Bias removed\n",
      "[[ 1. -1.]]\n",
      "dW_1:\n",
      "[[ 3.  3. -6.]]\n",
      "dW_0:\n",
      "[[ 3.  3.  0.]\n",
      " [-3. -3.  0.]]\n",
      "Updated W_1:\n",
      "[[-3. -2.  5.]]\n",
      "Updated W_0:\n",
      "[[-2. -3.  1.]\n",
      " [ 2.  2.  1.]]\n",
      "Iter=  2 ======================================================================\n",
      "Bias added\n",
      "Bias added\n",
      "A_0 (input):\n",
      "[[ 1.]\n",
      " [-1.]\n",
      " [-1.]]\n",
      "Z_1 (hidden pre-activation):\n",
      "[[ 0.]\n",
      " [-1.]]\n",
      "A_1 (hidden post-activation):\n",
      "[[ 1.]\n",
      " [ 0.]\n",
      " [-1.]]\n",
      "Z_2 (output pre-activation):\n",
      "[[-8.]]\n",
      "A_2 (output post-activation):\n",
      "[[0.]]\n",
      "Bias removed\n",
      "[[-2.  5.]]\n",
      "dW_1:\n",
      "[[0. 0. 0.]]\n",
      "dW_0:\n",
      "[[0. 0. 0.]\n",
      " [0. 0. 0.]]\n",
      "Updated W_1:\n",
      "[[-3. -2.  5.]]\n",
      "Updated W_0:\n",
      "[[-2. -3.  1.]\n",
      " [ 2.  2.  1.]]\n",
      "Iter=  3 ======================================================================\n",
      "Bias added\n",
      "Bias added\n",
      "A_0 (input):\n",
      "[[1.]\n",
      " [1.]\n",
      " [1.]]\n",
      "Z_1 (hidden pre-activation):\n",
      "[[-4.]\n",
      " [ 5.]]\n",
      "A_1 (hidden post-activation):\n",
      "[[ 1.]\n",
      " [-4.]\n",
      " [ 5.]]\n",
      "Z_2 (output pre-activation):\n",
      "[[30.]]\n",
      "A_2 (output post-activation):\n",
      "[[30.]]\n",
      "Bias removed\n",
      "[[-2.  5.]]\n",
      "dW_1:\n",
      "[[  29. -116.  145.]]\n",
      "dW_0:\n",
      "[[-58. -58. -58.]\n",
      " [145. 145. 145.]]\n",
      "Updated W_1:\n",
      "[[ -32.  114. -140.]]\n",
      "Updated W_0:\n",
      "[[  56.   55.   59.]\n",
      " [-143. -143. -144.]]\n"
     ]
    }
   ],
   "source": [
    "# for e in range(MAX_EPOCHS):\n",
    "#     print(\"Epoch= \",e+1,\"=\"*70)\n",
    "#     for iter, (x,y) in enumerate(zip(X.T,t.T)):\n",
    "#         print(\"Iter= \",iter+1,\"=\"*70)\n",
    "#         A_0=x.reshape(-1,1)\n",
    "#         if W_0.shape[1] == A_0.shape[0]+1:\n",
    "#             A_0=np.vstack((np.ones((1,1)),A_0))\n",
    "#             print(\"Bias added\")\n",
    "#         Z_1=W_0@A_0\n",
    "#         A_1=activation(Z_1,f_1)\n",
    "        \n",
    "#         if W_1.shape[1] == A_1.shape[0]+1:\n",
    "#             A_1=np.vstack((np.ones((1,1)),A_1))\n",
    "#             print(\"Bias added\")\n",
    "#         Z_2=W_1@A_1\n",
    "#         A_2=activation(Z_2,f_2)\n",
    "        \n",
    "#         print(f'A_0 (input):\\n{A_0}')\n",
    "#         print(f'Z_1 (hidden pre-activation):\\n{Z_1}')\n",
    "#         print(f'A_1 (hidden post-activation):\\n{A_1}')\n",
    "#         print(f'Z_2 (output pre-activation):\\n{Z_2}')\n",
    "#         print(f'A_2 (output post-activation):\\n{A_2}')\n",
    "        \n",
    "#         delta_2=(A_2-y.reshape(-1,1))*activation(Z_2,f_2,\"B\")\n",
    "#         dW_1= delta_2 @ A_1.T\n",
    "        \n",
    "#         if W_1.shape[1] == Z_1.shape[0]+1:\n",
    "#             W_1_no_bias= W_1[:,1:]\n",
    "#             print(\"Bias removed\")\n",
    "#         else:\n",
    "#             W_1_no_bias=W_1\n",
    "            \n",
    "#         print(W_1_no_bias)\n",
    "        \n",
    "#         delta_1=(W_1_no_bias.T@delta_2)* activation(Z_1,f_1,\"B\")\n",
    "#         dW_0= delta_1@A_0.T\n",
    "        \n",
    "#         W_1-= lr*dW_1\n",
    "#         W_0-= lr*dW_0\n",
    "        \n",
    "        \n",
    "#         print(f'dW_1:\\n{dW_1}')\n",
    "#         print(f'dW_0:\\n{dW_0}')\n",
    "#         print(f'Updated W_1:\\n{W_1}')\n",
    "#         print(f'Updated W_0:\\n{W_0}')\n",
    "\n",
    "    \n"
   ]
  },
  {
   "cell_type": "markdown",
   "id": "a1ef5637",
   "metadata": {},
   "source": [
    "# Gradient Tape"
   ]
  },
  {
   "cell_type": "code",
   "execution_count": 30,
   "id": "afcf5bff",
   "metadata": {},
   "outputs": [
    {
     "name": "stdout",
     "output_type": "stream",
     "text": [
      "Requirement already satisfied: tensorflow in c:\\users\\vaibh\\anaconda3\\lib\\site-packages (2.12.0)\n",
      "Requirement already satisfied: tensorflow-intel==2.12.0 in c:\\users\\vaibh\\anaconda3\\lib\\site-packages (from tensorflow) (2.12.0)\n",
      "Requirement already satisfied: absl-py>=1.0.0 in c:\\users\\vaibh\\anaconda3\\lib\\site-packages (from tensorflow-intel==2.12.0->tensorflow) (1.4.0)\n",
      "Requirement already satisfied: astunparse>=1.6.0 in c:\\users\\vaibh\\anaconda3\\lib\\site-packages (from tensorflow-intel==2.12.0->tensorflow) (1.6.3)\n",
      "Requirement already satisfied: flatbuffers>=2.0 in c:\\users\\vaibh\\anaconda3\\lib\\site-packages (from tensorflow-intel==2.12.0->tensorflow) (23.5.26)\n",
      "Requirement already satisfied: gast<=0.4.0,>=0.2.1 in c:\\users\\vaibh\\anaconda3\\lib\\site-packages (from tensorflow-intel==2.12.0->tensorflow) (0.4.0)\n",
      "Requirement already satisfied: google-pasta>=0.1.1 in c:\\users\\vaibh\\anaconda3\\lib\\site-packages (from tensorflow-intel==2.12.0->tensorflow) (0.2.0)\n",
      "Requirement already satisfied: h5py>=2.9.0 in c:\\users\\vaibh\\anaconda3\\lib\\site-packages (from tensorflow-intel==2.12.0->tensorflow) (3.7.0)\n",
      "Requirement already satisfied: jax>=0.3.15 in c:\\users\\vaibh\\anaconda3\\lib\\site-packages (from tensorflow-intel==2.12.0->tensorflow) (0.4.13)\n",
      "Requirement already satisfied: libclang>=13.0.0 in c:\\users\\vaibh\\anaconda3\\lib\\site-packages (from tensorflow-intel==2.12.0->tensorflow) (16.0.0)\n",
      "Requirement already satisfied: numpy<1.24,>=1.22 in c:\\users\\vaibh\\anaconda3\\lib\\site-packages (from tensorflow-intel==2.12.0->tensorflow) (1.23.5)\n",
      "Requirement already satisfied: opt-einsum>=2.3.2 in c:\\users\\vaibh\\anaconda3\\lib\\site-packages (from tensorflow-intel==2.12.0->tensorflow) (3.3.0)\n",
      "Requirement already satisfied: packaging in c:\\users\\vaibh\\anaconda3\\lib\\site-packages (from tensorflow-intel==2.12.0->tensorflow) (24.2)\n",
      "Requirement already satisfied: protobuf!=4.21.0,!=4.21.1,!=4.21.2,!=4.21.3,!=4.21.4,!=4.21.5,<5.0.0dev,>=3.20.3 in c:\\users\\vaibh\\anaconda3\\lib\\site-packages (from tensorflow-intel==2.12.0->tensorflow) (4.21.12)\n",
      "Requirement already satisfied: setuptools in c:\\users\\vaibh\\anaconda3\\lib\\site-packages (from tensorflow-intel==2.12.0->tensorflow) (78.0.1)\n",
      "Requirement already satisfied: six>=1.12.0 in c:\\users\\vaibh\\anaconda3\\lib\\site-packages (from tensorflow-intel==2.12.0->tensorflow) (1.17.0)\n",
      "Requirement already satisfied: termcolor>=1.1.0 in c:\\users\\vaibh\\anaconda3\\lib\\site-packages (from tensorflow-intel==2.12.0->tensorflow) (2.3.0)\n",
      "Requirement already satisfied: typing-extensions>=3.6.6 in c:\\users\\vaibh\\anaconda3\\lib\\site-packages (from tensorflow-intel==2.12.0->tensorflow) (4.12.2)\n",
      "Requirement already satisfied: wrapt<1.15,>=1.11.0 in c:\\users\\vaibh\\anaconda3\\lib\\site-packages (from tensorflow-intel==2.12.0->tensorflow) (1.14.1)\n",
      "Requirement already satisfied: grpcio<2.0,>=1.24.3 in c:\\users\\vaibh\\anaconda3\\lib\\site-packages (from tensorflow-intel==2.12.0->tensorflow) (1.56.0)\n",
      "Requirement already satisfied: tensorboard<2.13,>=2.12 in c:\\users\\vaibh\\anaconda3\\lib\\site-packages (from tensorflow-intel==2.12.0->tensorflow) (2.12.3)\n",
      "Requirement already satisfied: tensorflow-estimator<2.13,>=2.12.0 in c:\\users\\vaibh\\anaconda3\\lib\\site-packages (from tensorflow-intel==2.12.0->tensorflow) (2.12.0)\n",
      "Requirement already satisfied: keras<2.13,>=2.12.0 in c:\\users\\vaibh\\anaconda3\\lib\\site-packages (from tensorflow-intel==2.12.0->tensorflow) (2.12.0)\n",
      "Requirement already satisfied: tensorflow-io-gcs-filesystem>=0.23.1 in c:\\users\\vaibh\\anaconda3\\lib\\site-packages (from tensorflow-intel==2.12.0->tensorflow) (0.31.0)\n",
      "Requirement already satisfied: wheel<1.0,>=0.23.0 in c:\\users\\vaibh\\anaconda3\\lib\\site-packages (from astunparse>=1.6.0->tensorflow-intel==2.12.0->tensorflow) (0.45.1)\n",
      "Requirement already satisfied: ml-dtypes>=0.1.0 in c:\\users\\vaibh\\anaconda3\\lib\\site-packages (from jax>=0.3.15->tensorflow-intel==2.12.0->tensorflow) (0.2.0)\n",
      "Requirement already satisfied: scipy>=1.7 in c:\\users\\vaibh\\anaconda3\\lib\\site-packages (from jax>=0.3.15->tensorflow-intel==2.12.0->tensorflow) (1.10.0)\n",
      "Requirement already satisfied: google-auth<3,>=1.6.3 in c:\\users\\vaibh\\anaconda3\\lib\\site-packages (from tensorboard<2.13,>=2.12->tensorflow-intel==2.12.0->tensorflow) (2.20.0)\n",
      "Requirement already satisfied: google-auth-oauthlib<1.1,>=0.5 in c:\\users\\vaibh\\anaconda3\\lib\\site-packages (from tensorboard<2.13,>=2.12->tensorflow-intel==2.12.0->tensorflow) (1.0.0)\n",
      "Requirement already satisfied: markdown>=2.6.8 in c:\\users\\vaibh\\anaconda3\\lib\\site-packages (from tensorboard<2.13,>=2.12->tensorflow-intel==2.12.0->tensorflow) (3.4.1)\n",
      "Requirement already satisfied: requests<3,>=2.21.0 in c:\\users\\vaibh\\anaconda3\\lib\\site-packages (from tensorboard<2.13,>=2.12->tensorflow-intel==2.12.0->tensorflow) (2.32.3)\n",
      "Requirement already satisfied: tensorboard-data-server<0.8.0,>=0.7.0 in c:\\users\\vaibh\\anaconda3\\lib\\site-packages (from tensorboard<2.13,>=2.12->tensorflow-intel==2.12.0->tensorflow) (0.7.1)\n",
      "Requirement already satisfied: werkzeug>=1.0.1 in c:\\users\\vaibh\\anaconda3\\lib\\site-packages (from tensorboard<2.13,>=2.12->tensorflow-intel==2.12.0->tensorflow) (2.2.2)\n",
      "Requirement already satisfied: cachetools<6.0,>=2.0.0 in c:\\users\\vaibh\\anaconda3\\lib\\site-packages (from google-auth<3,>=1.6.3->tensorboard<2.13,>=2.12->tensorflow-intel==2.12.0->tensorflow) (5.3.1)\n",
      "Requirement already satisfied: pyasn1-modules>=0.2.1 in c:\\users\\vaibh\\anaconda3\\lib\\site-packages (from google-auth<3,>=1.6.3->tensorboard<2.13,>=2.12->tensorflow-intel==2.12.0->tensorflow) (0.2.8)\n",
      "Requirement already satisfied: rsa<5,>=3.1.4 in c:\\users\\vaibh\\anaconda3\\lib\\site-packages (from google-auth<3,>=1.6.3->tensorboard<2.13,>=2.12->tensorflow-intel==2.12.0->tensorflow) (4.9)\n",
      "Collecting urllib3<2.0 (from google-auth<3,>=1.6.3->tensorboard<2.13,>=2.12->tensorflow-intel==2.12.0->tensorflow)\n",
      "  Downloading urllib3-1.26.20-py2.py3-none-any.whl.metadata (50 kB)\n",
      "Requirement already satisfied: requests-oauthlib>=0.7.0 in c:\\users\\vaibh\\anaconda3\\lib\\site-packages (from google-auth-oauthlib<1.1,>=0.5->tensorboard<2.13,>=2.12->tensorflow-intel==2.12.0->tensorflow) (1.3.1)\n",
      "Requirement already satisfied: charset-normalizer<4,>=2 in c:\\users\\vaibh\\anaconda3\\lib\\site-packages (from requests<3,>=2.21.0->tensorboard<2.13,>=2.12->tensorflow-intel==2.12.0->tensorflow) (3.4.1)\n",
      "Requirement already satisfied: idna<4,>=2.5 in c:\\users\\vaibh\\anaconda3\\lib\\site-packages (from requests<3,>=2.21.0->tensorboard<2.13,>=2.12->tensorflow-intel==2.12.0->tensorflow) (3.10)\n",
      "Requirement already satisfied: certifi>=2017.4.17 in c:\\users\\vaibh\\anaconda3\\lib\\site-packages (from requests<3,>=2.21.0->tensorboard<2.13,>=2.12->tensorflow-intel==2.12.0->tensorflow) (2025.1.31)\n",
      "Requirement already satisfied: MarkupSafe>=2.1.1 in c:\\users\\vaibh\\anaconda3\\lib\\site-packages (from werkzeug>=1.0.1->tensorboard<2.13,>=2.12->tensorflow-intel==2.12.0->tensorflow) (3.0.2)\n",
      "Requirement already satisfied: pyasn1<0.5.0,>=0.4.6 in c:\\users\\vaibh\\anaconda3\\lib\\site-packages (from pyasn1-modules>=0.2.1->google-auth<3,>=1.6.3->tensorboard<2.13,>=2.12->tensorflow-intel==2.12.0->tensorflow) (0.4.8)\n",
      "Requirement already satisfied: oauthlib>=3.0.0 in c:\\users\\vaibh\\anaconda3\\lib\\site-packages (from requests-oauthlib>=0.7.0->google-auth-oauthlib<1.1,>=0.5->tensorboard<2.13,>=2.12->tensorflow-intel==2.12.0->tensorflow) (3.2.2)\n",
      "Downloading urllib3-1.26.20-py2.py3-none-any.whl (144 kB)\n",
      "Installing collected packages: urllib3\n",
      "  Attempting uninstall: urllib3\n",
      "    Found existing installation: urllib3 2.3.0\n",
      "    Uninstalling urllib3-2.3.0:\n",
      "      Successfully uninstalled urllib3-2.3.0\n",
      "Successfully installed urllib3-1.26.20\n"
     ]
    },
    {
     "name": "stderr",
     "output_type": "stream",
     "text": [
      "ERROR: pip's dependency resolver does not currently take into account all the packages that are installed. This behaviour is the source of the following dependency conflicts.\n",
      "pyppeteer 1.0.0 requires websockets<11.0,>=10.0, but you have websockets 15.0.1 which is incompatible.\n",
      "\n",
      "[notice] A new release of pip is available: 25.0.1 -> 25.1\n",
      "[notice] To update, run: python.exe -m pip install --upgrade pip\n"
     ]
    },
    {
     "name": "stdout",
     "output_type": "stream",
     "text": [
      "Requirement already satisfied: matplotlib in c:\\users\\vaibh\\anaconda3\\lib\\site-packages (3.7.0)\n",
      "Requirement already satisfied: contourpy>=1.0.1 in c:\\users\\vaibh\\anaconda3\\lib\\site-packages (from matplotlib) (1.0.5)\n",
      "Requirement already satisfied: cycler>=0.10 in c:\\users\\vaibh\\anaconda3\\lib\\site-packages (from matplotlib) (0.11.0)\n",
      "Requirement already satisfied: fonttools>=4.22.0 in c:\\users\\vaibh\\anaconda3\\lib\\site-packages (from matplotlib) (4.25.0)\n",
      "Requirement already satisfied: kiwisolver>=1.0.1 in c:\\users\\vaibh\\anaconda3\\lib\\site-packages (from matplotlib) (1.4.4)\n",
      "Requirement already satisfied: numpy>=1.20 in c:\\users\\vaibh\\anaconda3\\lib\\site-packages (from matplotlib) (1.23.5)\n",
      "Requirement already satisfied: packaging>=20.0 in c:\\users\\vaibh\\anaconda3\\lib\\site-packages (from matplotlib) (24.2)\n",
      "Requirement already satisfied: pillow>=6.2.0 in c:\\users\\vaibh\\anaconda3\\lib\\site-packages (from matplotlib) (9.4.0)\n",
      "Requirement already satisfied: pyparsing>=2.3.1 in c:\\users\\vaibh\\anaconda3\\lib\\site-packages (from matplotlib) (3.0.9)\n",
      "Requirement already satisfied: python-dateutil>=2.7 in c:\\users\\vaibh\\anaconda3\\lib\\site-packages (from matplotlib) (2.8.2)\n",
      "Requirement already satisfied: six>=1.5 in c:\\users\\vaibh\\anaconda3\\lib\\site-packages (from python-dateutil>=2.7->matplotlib) (1.17.0)\n"
     ]
    },
    {
     "name": "stderr",
     "output_type": "stream",
     "text": [
      "\n",
      "[notice] A new release of pip is available: 25.0.1 -> 25.1\n",
      "[notice] To update, run: python.exe -m pip install --upgrade pip\n"
     ]
    },
    {
     "data": {
      "text/plain": [
       "(tensorflow.python.framework.ops.EagerTensor, TensorShape([3]), tf.float32)"
      ]
     },
     "execution_count": 30,
     "metadata": {},
     "output_type": "execute_result"
    }
   ],
   "source": [
    "!pip install tensorflow\n",
    "!pip install matplotlib\n",
    "\n",
    "import numpy as np\n",
    "import matplotlib.pyplot as plt\n",
    "import tensorflow as tf\n"
   ]
  },
  {
   "cell_type": "code",
   "execution_count": 32,
   "id": "19390fe5",
   "metadata": {},
   "outputs": [
    {
     "data": {
      "text/plain": [
       "(tensorflow.python.framework.ops.EagerTensor, TensorShape([]), tf.float32)"
      ]
     },
     "execution_count": 32,
     "metadata": {},
     "output_type": "execute_result"
    }
   ],
   "source": [
    "a=tf.constant(3e-38)\n",
    "type(a),a.shape,a.dtype"
   ]
  },
  {
   "cell_type": "code",
   "execution_count": 31,
   "id": "82e55969",
   "metadata": {},
   "outputs": [
    {
     "data": {
      "text/plain": [
       "(tensorflow.python.framework.ops.EagerTensor, TensorShape([3]), tf.float32)"
      ]
     },
     "execution_count": 31,
     "metadata": {},
     "output_type": "execute_result"
    }
   ],
   "source": [
    "a=tf.constant([3,2,3.])\n",
    "type(a),a.shape,a.dtype"
   ]
  },
  {
   "cell_type": "code",
   "execution_count": 33,
   "id": "2d52e0b8",
   "metadata": {},
   "outputs": [
    {
     "data": {
      "text/plain": [
       "(tensorflow.python.framework.ops.EagerTensor, TensorShape([2, 3]), tf.float32)"
      ]
     },
     "execution_count": 33,
     "metadata": {},
     "output_type": "execute_result"
    }
   ],
   "source": [
    "a=tf.constant([[3,2.,3],[3,2,3]])\n",
    "type(a),a.shape,a.dtype"
   ]
  },
  {
   "cell_type": "code",
   "execution_count": 34,
   "id": "60050d3c",
   "metadata": {},
   "outputs": [
    {
     "data": {
      "text/plain": [
       "(tensorflow.python.framework.ops.EagerTensor,\n",
       " TensorShape([1, 1, 1, 2, 3]),\n",
       " tf.int32)"
      ]
     },
     "execution_count": 34,
     "metadata": {},
     "output_type": "execute_result"
    }
   ],
   "source": [
    "a=tf.constant([[[[[3,2,3],[3,2,3]],]]])\n",
    "type(a),a.shape,a.dtype"
   ]
  },
  {
   "cell_type": "code",
   "execution_count": null,
   "id": "5f16009a",
   "metadata": {},
   "outputs": [],
   "source": [
    "a=tf.constant([[[3,2,3],[3,2,3]],[[3,2,3],[3,2,3]]])\n",
    "type(a),a.shape,a.dtype"
   ]
  },
  {
   "cell_type": "markdown",
   "id": "af33ddfa",
   "metadata": {},
   "source": [
    "Gradient Tape"
   ]
  },
  {
   "cell_type": "code",
   "execution_count": 35,
   "id": "45f69905",
   "metadata": {},
   "outputs": [
    {
     "data": {
      "text/plain": [
       "(TensorShape([2]), tf.float32, array([ 8., 10.], dtype=float32))"
      ]
     },
     "execution_count": 35,
     "metadata": {},
     "output_type": "execute_result"
    }
   ],
   "source": [
    "a= tf.constant([2.])\n",
    "x=tf.Variable([3.,4])\n",
    "y=2*x+a\n",
    "y.shape,y.dtype,y.numpy()\n"
   ]
  },
  {
   "cell_type": "code",
   "execution_count": 36,
   "id": "adfcd9e5",
   "metadata": {},
   "outputs": [
    {
     "data": {
      "text/plain": [
       "array([2., 2.], dtype=float32)"
      ]
     },
     "execution_count": 36,
     "metadata": {},
     "output_type": "execute_result"
    }
   ],
   "source": [
    "with tf.GradientTape(persistent=True) as tape:\n",
    "    tape.watch(x)\n",
    "    y=2*x**1+a\n",
    "dy_dx=tape.gradient(y,x).numpy()\n",
    "dy_dx"
   ]
  },
  {
   "cell_type": "code",
   "execution_count": 38,
   "id": "ec29a01f",
   "metadata": {},
   "outputs": [
    {
     "data": {
      "text/plain": [
       "(array([12.], dtype=float32), array([3.], dtype=float32))"
      ]
     },
     "execution_count": 38,
     "metadata": {},
     "output_type": "execute_result"
    }
   ],
   "source": [
    "a= tf.constant([2.])\n",
    "w1=tf.Variable([3.,])\n",
    "w2=tf.Variable([1.,])\n",
    "\n",
    "with tf.GradientTape(persistent=True) as tape:\n",
    "    tape.watch(w1)\n",
    "    tape.watch(w2)\n",
    "\n",
    "    y=2*w1**2+w2**3+a\n",
    "\n",
    "dy_dw1,dy_dw2=tape.gradient(y,[w1,w2])\n",
    "dy_dw1.numpy(),dy_dw2.numpy()"
   ]
  },
  {
   "cell_type": "code",
   "execution_count": 39,
   "id": "0545aab4",
   "metadata": {},
   "outputs": [
    {
     "data": {
      "text/plain": [
       "array([12., 12.], dtype=float32)"
      ]
     },
     "execution_count": 39,
     "metadata": {},
     "output_type": "execute_result"
    }
   ],
   "source": [
    "a= tf.constant([2.])\n",
    "W=tf.Variable([3.,2.])\n",
    "\n",
    "with tf.GradientTape(persistent=True) as tape:\n",
    "    tape.watch(W)\n",
    "\n",
    "    y=2*W[0]**2+W[1]**3+a\n",
    "tape.gradient(y,W).numpy()"
   ]
  },
  {
   "cell_type": "code",
   "execution_count": 42,
   "id": "94ba8c18",
   "metadata": {},
   "outputs": [
    {
     "data": {
      "image/png": "[encoded data removed]",
      "text/plain": [
       "<Figure size 640x480 with 1 Axes>"
      ]
     },
     "metadata": {},
     "output_type": "display_data"
    }
   ],
   "source": [
    "#Usigmoid \n",
    "u=tf.Variable(np.arange(-5,5,0.1))\n",
    "with tf.GradientTape(persistent=True) as tape:\n",
    "    tape.watch(u)\n",
    "    y=1/(1+tf.exp(-u))\n",
    "    \n",
    "dy_du=tape.gradient(y,u)\n",
    "\n",
    "plt.plot(u.numpy(),y.numpy(), \"b\")\n",
    "plt.plot(u.numpy(),dy_du.numpy(), \"r\")\n",
    "plt.show()"
   ]
  },
  {
   "cell_type": "code",
   "execution_count": 44,
   "id": "66f1b88d",
   "metadata": {},
   "outputs": [
    {
     "data": {
      "image/png": "[encoded data removed]",
      "text/plain": [
       "<Figure size 640x480 with 1 Axes>"
      ]
     },
     "metadata": {},
     "output_type": "display_data"
    }
   ],
   "source": [
    "#Usigmoid \n",
    "r=tf.Variable(np.arange(-5,5,0.1))\n",
    "with tf.GradientTape(persistent=True) as tape:\n",
    "    tape.watch(u)\n",
    "    y=tf.keras.activations.relu(r)\n",
    "    \n",
    "dy_dr=tape.gradient(y,r)\n",
    "\n",
    "plt.plot(r.numpy(),y.numpy(), \"b\")\n",
    "plt.plot(r.numpy(),dy_dr.numpy(), \"r\")\n",
    "plt.show()"
   ]
  },
  {
   "cell_type": "code",
   "execution_count": null,
   "id": "28c79a56",
   "metadata": {},
   "outputs": [],
   "source": []
  }
 ],
 "metadata": {
  "kernelspec": {
   "display_name": "Python 3 (ipykernel)",
   "language": "python",
   "name": "python3"
  },
  "language_info": {
   "codemirror_mode": {
    "name": "ipython",
    "version": 3
   },
   "file_extension": ".py",
   "mimetype": "text/x-python",
   "name": "python",
   "nbconvert_exporter": "python",
   "pygments_lexer": "ipython3",
   "version": "3.10.9"
  }
 },
 "nbformat": 4,
 "nbformat_minor": 5
}
