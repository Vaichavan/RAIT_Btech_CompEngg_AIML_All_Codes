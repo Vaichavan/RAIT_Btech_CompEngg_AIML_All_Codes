{
 "cells": [
  {
   "cell_type": "code",
   "execution_count": 2,
   "id": "f8c6a6b1-f06b-488b-a35b-fea2cd87a33c",
   "metadata": {},
   "outputs": [],
   "source": [
    "import numpy as np"
   ]
  },
  {
   "cell_type": "code",
   "execution_count": 3,
   "id": "5112fad9-26ea-434a-b0dd-f90f632e75ba",
   "metadata": {},
   "outputs": [
    {
     "name": "stdout",
     "output_type": "stream",
     "text": [
      "[0, 1, 1, 1]\n"
     ]
    }
   ],
   "source": [
    "X = np.array([[0, 0, 1, 1],\n",
    "             [0, 1, 0, 1]])\n",
    "W = np.array([1, 1])                  #Polar OR\n",
    "theta = 1\n",
    "Z = W@X\n",
    "y_pred = [int(i>=theta) for i in Z]\n",
    "print(y_pred)"
   ]
  },
  {
   "cell_type": "code",
   "execution_count": 4,
   "id": "d8e37eff-100c-4591-9971-5ed302cf6b79",
   "metadata": {},
   "outputs": [
    {
     "name": "stdout",
     "output_type": "stream",
     "text": [
      "[0, 0, 0, 1]\n"
     ]
    }
   ],
   "source": [
    "X = np.array([[0, 0, 1, 1],\n",
    "             [0, 1, 0, 1]])\n",
    "W = np.array([1, 1])\n",
    "theta = 2\n",
    "Z = W@X                                        #Polar AND\n",
    "y_pred = [int(i>=theta) for i in Z]\n",
    "print(y_pred)"
   ]
  },
  {
   "cell_type": "code",
   "execution_count": 5,
   "id": "ec537905-a73a-4145-a160-af19c4137666",
   "metadata": {},
   "outputs": [
    {
     "name": "stdout",
     "output_type": "stream",
     "text": [
      "[-1, 1, 1, 1]\n"
     ]
    }
   ],
   "source": [
    "X = np.array([[-1, -1, 1, 1],\n",
    "             [-1, 1, -1, 1]])\n",
    "W = np.array([1, 1])                   \n",
    "theta = 0                                    #Bipolar OR\n",
    "Z = W@X\n",
    "y_pred = [int(i>=theta)*2-1 for i in Z]\n",
    "print(y_pred)"
   ]
  },
  {
   "cell_type": "code",
   "execution_count": 6,
   "id": "71379c39-d834-4477-85dd-172ac022b795",
   "metadata": {},
   "outputs": [
    {
     "name": "stdout",
     "output_type": "stream",
     "text": [
      "[-1, -1, -1, 1]\n"
     ]
    }
   ],
   "source": [
    "X = np.array([[-1, -1, 1, 1],\n",
    "             [-1, 1, -1, 1]])\n",
    "W = np.array([1, 1])                   #Bipolar AND\n",
    "theta = 1\n",
    "Z = W@X\n",
    "y_pred = [int(i>=theta)*2-1 for i in Z]\n",
    "print(y_pred)"
   ]
  },
  {
   "cell_type": "code",
   "execution_count": null,
   "id": "2c01f4e1-a2a6-4011-96dd-35036c77a90b",
   "metadata": {},
   "outputs": [],
   "source": []
  },
  {
   "cell_type": "code",
   "execution_count": null,
   "id": "28ba68a6",
   "metadata": {},
   "outputs": [],
   "source": []
  }
 ],
 "metadata": {
  "kernelspec": {
   "display_name": "Python 3 (ipykernel)",
   "language": "python",
   "name": "python3"
  },
  "language_info": {
   "codemirror_mode": {
    "name": "ipython",
    "version": 3
   },
   "file_extension": ".py",
   "mimetype": "text/x-python",
   "name": "python",
   "nbconvert_exporter": "python",
   "pygments_lexer": "ipython3",
   "version": "3.10.9"
  }
 },
 "nbformat": 4,
 "nbformat_minor": 5
}
